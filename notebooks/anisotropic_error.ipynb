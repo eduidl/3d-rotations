{
 "cells": [
  {
   "cell_type": "markdown",
   "metadata": {},
   "source": [
    "# 回転の推定II:異方性誤差"
   ]
  },
  {
   "cell_type": "code",
   "execution_count": 1,
   "metadata": {},
   "outputs": [],
   "source": [
    "from pathlib import Path\n",
    "import sys\n",
    "from itertools import product\n",
    "\n",
    "from itkwidgets import view\n",
    "import numpy as np\n",
    "from scipy import linalg\n",
    "from scipy.stats import random_correlation, special_ortho_group\n",
    "from scipy.spatial.transform import Rotation\n",
    "\n",
    "sys.path.append('..')\n",
    "import util"
   ]
  },
  {
   "cell_type": "code",
   "execution_count": 2,
   "metadata": {
    "scrolled": false
   },
   "outputs": [
    {
     "name": "stdout",
     "output_type": "stream",
     "text": [
      "40251\n"
     ]
    }
   ],
   "source": [
    "A_bar = util.load_point_cloud(Path('../bunny/data/bun180.ply').resolve())\n",
    "points_num = A_bar.shape[0]\n",
    "print(points_num)"
   ]
  },
  {
   "cell_type": "code",
   "execution_count": 3,
   "metadata": {},
   "outputs": [
    {
     "data": {
      "application/vnd.jupyter.widget-view+json": {
       "model_id": "d62727d5d52f4224828ace648ce73e56",
       "version_major": 2,
       "version_minor": 0
      },
      "text/plain": [
       "Viewer(geometries=[], gradient_opacity=0.22, point_set_colors=array([[0.8392157, 0.       , 0.       ]], dtype…"
      ]
     },
     "metadata": {},
     "output_type": "display_data"
    }
   ],
   "source": [
    "view(point_sets=A_bar)"
   ]
  },
  {
   "cell_type": "code",
   "execution_count": 4,
   "metadata": {},
   "outputs": [
    {
     "name": "stdout",
     "output_type": "stream",
     "text": [
      "[[ 1.         -0.25341891 -0.20405749]\n",
      " [-0.25341891  1.         -0.29006792]\n",
      " [-0.20405749 -0.29006792  1.        ]]\n"
     ]
    }
   ],
   "source": [
    "cov_a = random_correlation.rvs((0.5, 1.2, 1.3))\n",
    "print(cov_a)\n",
    "noise_level = 3e-3\n",
    "A = A_bar + noise_level * np.random.multivariate_normal(np.zeros(3), cov_a, points_num)"
   ]
  },
  {
   "cell_type": "code",
   "execution_count": 5,
   "metadata": {},
   "outputs": [
    {
     "data": {
      "application/vnd.jupyter.widget-view+json": {
       "model_id": "2be02a157b7346b0bfbe86a25fa0726c",
       "version_major": 2,
       "version_minor": 0
      },
      "text/plain": [
       "Viewer(geometries=[], gradient_opacity=0.22, point_set_colors=array([[0.8392157, 0.       , 0.       ]], dtype…"
      ]
     },
     "metadata": {},
     "output_type": "display_data"
    }
   ],
   "source": [
    "view(point_sets=A)"
   ]
  },
  {
   "cell_type": "code",
   "execution_count": 6,
   "metadata": {
    "scrolled": true
   },
   "outputs": [
    {
     "name": "stdout",
     "output_type": "stream",
     "text": [
      "[[-0.9714901   0.08571768  0.22104179]\n",
      " [ 0.04373118  0.9811421  -0.18827575]\n",
      " [-0.23301197 -0.17324161 -0.95691837]]\n"
     ]
    }
   ],
   "source": [
    "ideal_R = special_ortho_group.rvs(3)\n",
    "print(ideal_R)"
   ]
  },
  {
   "cell_type": "code",
   "execution_count": 7,
   "metadata": {},
   "outputs": [
    {
     "name": "stdout",
     "output_type": "stream",
     "text": [
      "[[ 1.          0.86487508 -0.88330608]\n",
      " [ 0.86487508  1.         -0.80110017]\n",
      " [-0.88330608 -0.80110017  1.        ]]\n"
     ]
    }
   ],
   "source": [
    "cov_a_prime = random_correlation.rvs((0.1, 0.2, 2.7))\n",
    "print(cov_a_prime)\n",
    "A_prime = A_bar @ ideal_R.T + noise_level * np.random.multivariate_normal(np.zeros(3), cov_a_prime, points_num)"
   ]
  },
  {
   "cell_type": "code",
   "execution_count": 8,
   "metadata": {},
   "outputs": [
    {
     "data": {
      "application/vnd.jupyter.widget-view+json": {
       "model_id": "7123c5c3d9914fdf91460937581d81c5",
       "version_major": 2,
       "version_minor": 0
      },
      "text/plain": [
       "Viewer(geometries=[], gradient_opacity=0.22, point_set_colors=array([[0.8392157 , 0.        , 0.        ],\n",
       "   …"
      ]
     },
     "metadata": {},
     "output_type": "display_data"
    }
   ],
   "source": [
    "view(point_sets=[A, A_prime])"
   ]
  },
  {
   "cell_type": "markdown",
   "metadata": {},
   "source": [
    "## 特異値分解の場合"
   ]
  },
  {
   "cell_type": "code",
   "execution_count": 9,
   "metadata": {},
   "outputs": [
    {
     "name": "stdout",
     "output_type": "stream",
     "text": [
      "error: 0.00021641128777628564\n"
     ]
    }
   ],
   "source": [
    "R1 = util.estimate_R_using_SVD(A, A_prime)\n",
    "print('error:', util.eval_R_error(R1, ideal_R))"
   ]
  },
  {
   "cell_type": "code",
   "execution_count": 10,
   "metadata": {},
   "outputs": [
    {
     "data": {
      "application/vnd.jupyter.widget-view+json": {
       "model_id": "9caa27de5d0944c0a6c409f33355e492",
       "version_major": 2,
       "version_minor": 0
      },
      "text/plain": [
       "Viewer(geometries=[], gradient_opacity=0.22, point_set_colors=array([[0.8392157 , 0.        , 0.        ],\n",
       "   …"
      ]
     },
     "metadata": {},
     "output_type": "display_data"
    }
   ],
   "source": [
    "view(point_sets=[A @ R1.T, A_prime])"
   ]
  },
  {
   "cell_type": "markdown",
   "metadata": {},
   "source": [
    "## 5.3 四元数表現による回転推定"
   ]
  },
  {
   "cell_type": "code",
   "execution_count": 11,
   "metadata": {},
   "outputs": [
    {
     "name": "stdout",
     "output_type": "stream",
     "text": [
      "(3, 40251, 4)\n"
     ]
    }
   ],
   "source": [
    "Xi = np.stack([\n",
    "    np.hstack([\n",
    "        A_prime[:, [0]] - A[:, [0]],\n",
    "        np.zeros([points_num, 1]),\n",
    "        -(A_prime[:, [2]] + A[:, [2]]),\n",
    "        A_prime[:, [1]] + A[:, [1]]\n",
    "    ]),\n",
    "    np.hstack([\n",
    "        A_prime[:, [1]] - A[:, [1]],\n",
    "        A_prime[:, [2]] + A[:, [2]],\n",
    "        np.zeros([points_num, 1]),\n",
    "        -(A_prime[:, [0]] + A[:, [0]])\n",
    "    ]),\n",
    "    np.hstack([\n",
    "        A_prime[:, [2]] - A[:, [2]],\n",
    "        -(A_prime[:, [1]] + A[:, [1]]),\n",
    "        A_prime[:, [0]] + A[:, [0]],\n",
    "        np.zeros([points_num, 1])\n",
    "    ])\n",
    "])\n",
    "print(Xi.shape)"
   ]
  },
  {
   "cell_type": "code",
   "execution_count": 12,
   "metadata": {},
   "outputs": [
    {
     "name": "stdout",
     "output_type": "stream",
     "text": [
      "(3, 4, 6)\n"
     ]
    }
   ],
   "source": [
    "T = np.array([\n",
    "    [\n",
    "        [-1,  0,  0,  1,  0,  0],\n",
    "        [ 0,  0,  0,  0,  0,  0],\n",
    "        [ 0,  0, -1,  0,  0, -1],\n",
    "        [ 0,  1,  0,  0,  1,  0]\n",
    "    ], [\n",
    "        [ 0, -1,  0,  0,  1,  0],\n",
    "        [ 0,  0,  1,  0,  0,  1],\n",
    "        [ 0,  0,  0,  0,  0,  0],\n",
    "        [-1,  0,  0, -1,  0,  0]\n",
    "    ], [\n",
    "        [ 0,  0, -1,  0,  0,  1],\n",
    "        [ 0, -1,  0,  0, -1,  0],\n",
    "        [ 1,  0,  0,  1,  0,  0],\n",
    "        [ 0,  0,  0,  0,  0,  0]\n",
    "    ]\n",
    "])\n",
    "print(T.shape)"
   ]
  },
  {
   "cell_type": "code",
   "execution_count": 13,
   "metadata": {
    "scrolled": true
   },
   "outputs": [
    {
     "name": "stdout",
     "output_type": "stream",
     "text": [
      "[[ 1.         -0.25341891 -0.20405749  0.          0.          0.        ]\n",
      " [-0.25341891  1.         -0.29006792  0.          0.          0.        ]\n",
      " [-0.20405749 -0.29006792  1.          0.          0.          0.        ]\n",
      " [ 0.          0.          0.          1.          0.86487508 -0.88330608]\n",
      " [ 0.          0.          0.          0.86487508  1.         -0.80110017]\n",
      " [ 0.          0.          0.         -0.88330608 -0.80110017  1.        ]]\n",
      "(3, 3, 4, 4)\n"
     ]
    }
   ],
   "source": [
    "cov_joined = linalg.block_diag(cov_a, cov_a_prime)\n",
    "print(cov_joined)\n",
    "\n",
    "V_0 = np.zeros([3, 3, T.shape[1], T.shape[1]])\n",
    "for k, l in product(range(3), repeat=2):\n",
    "    V_0[k, l] = T[k] @ cov_joined @ T[l].T\n",
    "print(V_0.shape)"
   ]
  },
  {
   "cell_type": "markdown",
   "metadata": {},
   "source": [
    "## 5.4 FNS法による最適化"
   ]
  },
  {
   "cell_type": "code",
   "execution_count": 14,
   "metadata": {},
   "outputs": [],
   "source": [
    "def calc_M(W, Xi):\n",
    "    dim = Xi.shape[2]\n",
    "    M = np.zeros([dim, dim])\n",
    "    for k, l in product(range(3), repeat=2):\n",
    "        M += W[k, l] * Xi[k].T @ Xi[l]\n",
    "    return M"
   ]
  },
  {
   "cell_type": "code",
   "execution_count": 15,
   "metadata": {},
   "outputs": [],
   "source": [
    "def calc_L(W, q, Xi, V_0):\n",
    "    _, points_num, dim = Xi.shape\n",
    "    V = np.zeros([3, points_num])\n",
    "    for k, l in product(range(3), repeat=2):\n",
    "        V[k] += W[k, l] * Xi[l] @ q\n",
    "    L = np.zeros([dim, dim])\n",
    "    for k, l in product(range(3), repeat=2):\n",
    "        L += np.inner(V[k], V[l]) * V_0[k, l]\n",
    "    return L"
   ]
  },
  {
   "cell_type": "code",
   "execution_count": 16,
   "metadata": {
    "scrolled": false
   },
   "outputs": [],
   "source": [
    "def FNS_method(Xi, V_0):\n",
    "    # step 1\n",
    "    q0 = np.zeros(4)\n",
    "    W = np.eye(3)\n",
    "    iters = 1\n",
    "\n",
    "    while True:\n",
    "        # step 2\n",
    "        X = calc_M(W, Xi) - calc_L(W, q0, Xi, V_0)\n",
    "        # step 3\n",
    "        w, eigenvecs = linalg.eigh(X)\n",
    "        q = eigenvecs[:, np.argmin(w)]\n",
    "        # step 4\n",
    "        if np.allclose(q, q0) or np.allclose(q, -q0):\n",
    "            return q, iters\n",
    "        W_inv = np.zeros_like(W)\n",
    "        for k, l in product(range(3), repeat=2):\n",
    "            W_inv[k, l] = np.inner(q, V_0[k, l] @ q)\n",
    "        W = linalg.inv(W_inv)\n",
    "        q0 = q\n",
    "        iters += 1"
   ]
  },
  {
   "cell_type": "code",
   "execution_count": 17,
   "metadata": {},
   "outputs": [
    {
     "name": "stdout",
     "output_type": "stream",
     "text": [
      "iterations: 4\n",
      "error: 0.0001321067088523419\n"
     ]
    }
   ],
   "source": [
    "q, iters = FNS_method(Xi, V_0)\n",
    "R2 = Rotation.from_quat(q[[1, 2, 3, 0]]).as_dcm()\n",
    "print('iterations:', iters)\n",
    "print('error:', util.eval_R_error(R2, ideal_R))"
   ]
  },
  {
   "cell_type": "code",
   "execution_count": 18,
   "metadata": {},
   "outputs": [
    {
     "data": {
      "application/vnd.jupyter.widget-view+json": {
       "model_id": "4a3f6fff31d648e4ac01c458bc462258",
       "version_major": 2,
       "version_minor": 0
      },
      "text/plain": [
       "Viewer(geometries=[], gradient_opacity=0.22, point_set_colors=array([[0.8392157 , 0.        , 0.        ],\n",
       "   …"
      ]
     },
     "metadata": {},
     "output_type": "display_data"
    }
   ],
   "source": [
    "view(point_sets=[A @ R2.T, A_prime])"
   ]
  },
  {
   "cell_type": "markdown",
   "metadata": {},
   "source": [
    "## 5.5 同次拘束条件による解法"
   ]
  },
  {
   "cell_type": "code",
   "execution_count": 19,
   "metadata": {},
   "outputs": [
    {
     "name": "stdout",
     "output_type": "stream",
     "text": [
      "(3, 40251, 10)\n"
     ]
    }
   ],
   "source": [
    "zeros = np.zeros([points_num, 3])\n",
    "Xi = np.stack([\n",
    "    np.hstack([A, zeros, zeros, -A_prime[:, [0]]]),\n",
    "    np.hstack([zeros, A, zeros, -A_prime[:, [1]]]),\n",
    "    np.hstack([zeros, zeros, A, -A_prime[:, [2]]])\n",
    "])\n",
    "del zeros\n",
    "print(Xi.shape)"
   ]
  },
  {
   "cell_type": "code",
   "execution_count": 20,
   "metadata": {},
   "outputs": [
    {
     "name": "stdout",
     "output_type": "stream",
     "text": [
      "(3, 10, 6)\n",
      "[[[ 1.  0.  0.  0.  0.  0.]\n",
      "  [ 0.  1.  0.  0.  0.  0.]\n",
      "  [ 0.  0.  1.  0.  0.  0.]\n",
      "  [ 0.  0.  0.  0.  0.  0.]\n",
      "  [ 0.  0.  0.  0.  0.  0.]\n",
      "  [ 0.  0.  0.  0.  0.  0.]\n",
      "  [ 0.  0.  0.  0.  0.  0.]\n",
      "  [ 0.  0.  0.  0.  0.  0.]\n",
      "  [ 0.  0.  0.  0.  0.  0.]\n",
      "  [ 0.  0.  0. -1.  0.  0.]]\n",
      "\n",
      " [[ 0.  0.  0.  0.  0.  0.]\n",
      "  [ 0.  0.  0.  0.  0.  0.]\n",
      "  [ 0.  0.  0.  0.  0.  0.]\n",
      "  [ 1.  0.  0.  0.  0.  0.]\n",
      "  [ 0.  1.  0.  0.  0.  0.]\n",
      "  [ 0.  0.  1.  0.  0.  0.]\n",
      "  [ 0.  0.  0.  0.  0.  0.]\n",
      "  [ 0.  0.  0.  0.  0.  0.]\n",
      "  [ 0.  0.  0.  0.  0.  0.]\n",
      "  [ 0.  0.  0.  0. -1.  0.]]\n",
      "\n",
      " [[ 0.  0.  0.  0.  0.  0.]\n",
      "  [ 0.  0.  0.  0.  0.  0.]\n",
      "  [ 0.  0.  0.  0.  0.  0.]\n",
      "  [ 0.  0.  0.  0.  0.  0.]\n",
      "  [ 0.  0.  0.  0.  0.  0.]\n",
      "  [ 0.  0.  0.  0.  0.  0.]\n",
      "  [ 1.  0.  0.  0.  0.  0.]\n",
      "  [ 0.  1.  0.  0.  0.  0.]\n",
      "  [ 0.  0.  1.  0.  0.  0.]\n",
      "  [ 0.  0.  0.  0.  0. -1.]]]\n"
     ]
    }
   ],
   "source": [
    "T = np.zeros([3 ,10, 6])\n",
    "for i in range(3):\n",
    "    T[i, i * 3, 0] = T[i, i * 3 + 1, 1] = T[i, i * 3 + 2, 2] = 1\n",
    "    T[i, 9, 3 +  i] = -1\n",
    "print(T.shape)\n",
    "print(T)"
   ]
  },
  {
   "cell_type": "code",
   "execution_count": 21,
   "metadata": {},
   "outputs": [
    {
     "name": "stdout",
     "output_type": "stream",
     "text": [
      "(3, 3, 10, 10)\n"
     ]
    }
   ],
   "source": [
    "V_0 = np.zeros([3, 3, T.shape[1], T.shape[1]])\n",
    "for k, l in product(range(3), repeat=2):\n",
    "    V_0[k, l] = T[k] @ cov_joined @ T[l].T\n",
    "print(V_0.shape)"
   ]
  },
  {
   "cell_type": "code",
   "execution_count": 22,
   "metadata": {},
   "outputs": [],
   "source": [
    "def projection_matrix(u):\n",
    "    orthogonal_basis = np.array([\n",
    "        [u[1], u[0], 0, u[4], u[3], 0, u[7], u[6], 0, 0],\n",
    "        [0, u[2], u[1], 0, u[5], u[4], 0, u[8], u[7], 0],\n",
    "        [u[2], 0, u[0], u[5], 0, u[3], u[8], 0, u[6], 0],\n",
    "        [2*u[0], 0, 0, 2*u[3], 0, 0, 2*u[6], 0, 0, -2*u[9]],\n",
    "        [0, 2*u[1], 0, 0, 2*u[4], 0, 0, 2*u[7], 0, -2*u[9]],\n",
    "        [0, 0, 2*u[2], 0, 0, 2*u[5], 0, 0, 2*u[8], -2*u[9]],\n",
    "    ]).T\n",
    "\n",
    "    constraint_num = orthogonal_basis.shape[1]\n",
    "    # Gram–Schmidt process\n",
    "    Q, _ = linalg.qr(orthogonal_basis)\n",
    "    P = np.eye(10)\n",
    "    for i in range(6):\n",
    "        P -= np.outer(Q[:, i], Q[:, i])\n",
    "    return P, constraint_num"
   ]
  },
  {
   "cell_type": "code",
   "execution_count": 23,
   "metadata": {},
   "outputs": [],
   "source": [
    "def EFNS_method(Xi, V_0):\n",
    "    # step 1\n",
    "    u = np.array([1., 0., 0.,\n",
    "                  0., 1., 0.,\n",
    "                  0., 0., 1., 1.])\n",
    "    u /= linalg.norm(u)\n",
    "    W = np.eye(3)\n",
    "    iters = 1\n",
    "\n",
    "    while True:\n",
    "        # step 2\n",
    "        M = calc_M(W, Xi)\n",
    "        L = calc_L(W, u, Xi, V_0)\n",
    "        # step 3, 4\n",
    "        P, constraint_num = projection_matrix(u)\n",
    "        # step 5\n",
    "        X = P @ (M - L) @ P\n",
    "        # step 6\n",
    "        w, vecs = linalg.eigh(X)\n",
    "        vecs = vecs[:, np.argsort(w)[:constraint_num + 1]]\n",
    "        # step 7\n",
    "        u_hat = np.zeros_like(u)\n",
    "        for i in range(constraint_num + 1):\n",
    "            u_hat += np.inner(u, vecs[:, i]) * vecs[:, i]\n",
    "        # step 8\n",
    "        u_prime = P @ u_hat\n",
    "        u_prime /= linalg.norm(u_prime)\n",
    "        if np.allclose(u_prime, u) or np.allclose(u_prime, -u):\n",
    "            return u_prime, iters\n",
    "        u += u_prime\n",
    "        u /= linalg.norm(u)\n",
    "        W_inv = np.zeros_like(W)\n",
    "        for k, l in product(range(3), repeat=2):\n",
    "            W_inv[k, l] = np.inner(u, V_0[k, l] @ u)\n",
    "        W = linalg.inv(W_inv)\n",
    "        iters += 1"
   ]
  },
  {
   "cell_type": "code",
   "execution_count": 24,
   "metadata": {
    "scrolled": false
   },
   "outputs": [
    {
     "name": "stdout",
     "output_type": "stream",
     "text": [
      "iterations: 24\n",
      "error: 0.00013210670343442174\n"
     ]
    }
   ],
   "source": [
    "u, iters = EFNS_method(Xi, V_0)\n",
    "R3 = u[:-1].reshape(3, 3) / u[-1]\n",
    "print('iterations:', iters)\n",
    "print('error:', util.eval_R_error(R3, ideal_R))"
   ]
  },
  {
   "cell_type": "code",
   "execution_count": 25,
   "metadata": {},
   "outputs": [
    {
     "data": {
      "application/vnd.jupyter.widget-view+json": {
       "model_id": "c71014979fb8429c9d6362bf9352038e",
       "version_major": 2,
       "version_minor": 0
      },
      "text/plain": [
       "Viewer(geometries=[], gradient_opacity=0.22, point_set_colors=array([[0.8392157 , 0.        , 0.        ],\n",
       "   …"
      ]
     },
     "metadata": {},
     "output_type": "display_data"
    }
   ],
   "source": [
    "view(point_sets=[A @ R3.T, A_prime])"
   ]
  },
  {
   "cell_type": "markdown",
   "metadata": {},
   "source": [
    "## 6.6 最尤推定による回転の最適化\n",
    "（章は違うがやっていることは同じなので混ぜた）"
   ]
  },
  {
   "cell_type": "code",
   "execution_count": 26,
   "metadata": {},
   "outputs": [],
   "source": [
    "def calc_W(cov_a, cov_a_prime, R):\n",
    "    return linalg.inv(R @ cov_a @ R.T + cov_a_prime)"
   ]
  },
  {
   "cell_type": "code",
   "execution_count": 27,
   "metadata": {},
   "outputs": [],
   "source": [
    "def calc_g(A, A_prime, R, W, cov_a):\n",
    "    ART = A @ R.T\n",
    "    EWT = (A_prime - ART) @ W.T\n",
    "    g = (-np.cross(ART, EWT, axis=1) + np.cross(EWT, EWT @ (R @ cov_a @ R.T), axis=1)).sum(axis=0)\n",
    "    return g"
   ]
  },
  {
   "cell_type": "code",
   "execution_count": 28,
   "metadata": {},
   "outputs": [],
   "source": [
    "def calc_H(A, R, W):\n",
    "    ART = A @ R.T\n",
    "    tmp = np.stack([\n",
    "        # np.cross(ART, W[:, 0], axisa=1, axisb=0, axisc=1)\n",
    "        np.cross(ART, W[[0]], axis=1),\n",
    "        np.cross(ART, W[[1]], axis=1),\n",
    "        np.cross(ART, W[[2]], axis=1),\n",
    "    ], axis=2)\n",
    "    # np.cross(tmp, ART.reshape(*ART.shape, 1), axisa=2, axisb=1, axisc=2).sum(axis=0)\n",
    "    return np.cross(tmp, ART.reshape(-1, 1, 3), axis=2).sum(axis=0)"
   ]
  },
  {
   "cell_type": "code",
   "execution_count": 29,
   "metadata": {},
   "outputs": [],
   "source": [
    "def calc_J(A, A_prime, cov_a, cov_a_prime, R):\n",
    "    W = calc_W(cov_a, cov_a_prime, R)\n",
    "    E = A_prime - A @ R.T\n",
    "    return (E * (E @ W.T)).sum()"
   ]
  },
  {
   "cell_type": "code",
   "execution_count": 30,
   "metadata": {},
   "outputs": [],
   "source": [
    "def lie_optimize(A, A_prime, cov_a, cov_a_prime):\n",
    "    # step 1\n",
    "    R = init_R = util.estimate_R_using_SVD(A, A_prime)\n",
    "    J = init_J = calc_J(A, A_prime, cov_a, cov_a_prime, R)\n",
    "    c = 0.0001\n",
    "\n",
    "    while True:\n",
    "        W = calc_W(cov_a, cov_a_prime, R)\n",
    "        # step 2\n",
    "        g = calc_g(A, A_prime, R, W, cov_a)\n",
    "        H = calc_H(A, R, W)\n",
    "        while True:\n",
    "            # step 3\n",
    "            omega = linalg.solve(H + c * np.eye(3), -g)\n",
    "            # step 4\n",
    "            new_R = util.exponential_map(omega) @ R\n",
    "            # step 5\n",
    "            new_J = calc_J(A, A_prime, cov_a, cov_a_prime, new_R)\n",
    "            if new_J <= J:\n",
    "                break\n",
    "            c *= 10\n",
    "        # step 6\n",
    "        if linalg.norm(omega) < 1e-10:\n",
    "            return new_R, new_J, init_R, init_J\n",
    "        R = new_R\n",
    "        J = new_J\n",
    "        c /= 10"
   ]
  },
  {
   "cell_type": "code",
   "execution_count": 31,
   "metadata": {},
   "outputs": [
    {
     "name": "stdout",
     "output_type": "stream",
     "text": [
      "initial error: 0.00021641128777628564\n",
      "final error: 0.00013210660251496964\n",
      "J: 1.0875904572171673 -> 1.087588703231312\n"
     ]
    }
   ],
   "source": [
    "R4, J, init_R, init_J = lie_optimize(A, A_prime, cov_a, cov_a_prime)\n",
    "print('initial error:', util.eval_R_error(R1, ideal_R))\n",
    "print('final error:', util.eval_R_error(R4, ideal_R))\n",
    "print('J:', init_J, '->', J)"
   ]
  },
  {
   "cell_type": "code",
   "execution_count": 32,
   "metadata": {},
   "outputs": [
    {
     "data": {
      "application/vnd.jupyter.widget-view+json": {
       "model_id": "7ba6ffffce6643f3b38ed82d53502258",
       "version_major": 2,
       "version_minor": 0
      },
      "text/plain": [
       "Viewer(geometries=[], gradient_opacity=0.22, point_set_colors=array([[0.8392157 , 0.        , 0.        ],\n",
       "   …"
      ]
     },
     "metadata": {},
     "output_type": "display_data"
    }
   ],
   "source": [
    "view(point_sets=[A @ R4.T, A_prime])"
   ]
  }
 ],
 "metadata": {
  "kernelspec": {
   "display_name": "Python 3",
   "language": "python",
   "name": "python3"
  },
  "language_info": {
   "codemirror_mode": {
    "name": "ipython",
    "version": 3
   },
   "file_extension": ".py",
   "mimetype": "text/x-python",
   "name": "python",
   "nbconvert_exporter": "python",
   "pygments_lexer": "ipython3",
   "version": "3.6.9"
  }
 },
 "nbformat": 4,
 "nbformat_minor": 2
}
