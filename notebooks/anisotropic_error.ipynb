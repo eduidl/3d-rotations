{
 "cells": [
  {
   "cell_type": "markdown",
   "metadata": {},
   "source": [
    "# 回転の推定II:異方性誤差"
   ]
  },
  {
   "cell_type": "code",
   "execution_count": null,
   "metadata": {},
   "outputs": [],
   "source": [
    "import sys\n",
    "from itertools import product\n",
    "\n",
    "import numpy as np\n",
    "from scipy.stats import random_correlation, special_ortho_group\n",
    "from scipy.spatial.transform import Rotation\n",
    "\n",
    "sys.path.append('../libs')\n",
    "import util"
   ]
  },
  {
   "cell_type": "code",
   "execution_count": null,
   "metadata": {
    "scrolled": false
   },
   "outputs": [],
   "source": [
    "A_bar = util.load_point_cloud()\n",
    "points_num = A_bar.shape[1]\n",
    "print(points_num)\n",
    "util.plot_3d(A_bar)"
   ]
  },
  {
   "cell_type": "code",
   "execution_count": null,
   "metadata": {},
   "outputs": [],
   "source": [
    "sigma = np.array([[1., 1.2, 1.4]])\n",
    "cov = sigma * sigma.T * random_correlation.rvs((1.2, 0.8, 1.0))\n",
    "util.plot_3d(np.random.multivariate_normal(np.zeros(3), cov, 10000).T)"
   ]
  },
  {
   "cell_type": "code",
   "execution_count": null,
   "metadata": {},
   "outputs": [],
   "source": [
    "sigma = np.array([[1., 1.2, 1.4]])\n",
    "cov_a = sigma * sigma.T * random_correlation.rvs((0.5, 1.2, 1.3))\n",
    "noise_level = 3e-3\n",
    "A = A_bar + noise_level * np.random.multivariate_normal(np.zeros(3), cov_a, points_num).T\n",
    "util.plot_3d(A)"
   ]
  },
  {
   "cell_type": "code",
   "execution_count": null,
   "metadata": {},
   "outputs": [],
   "source": [
    "ideal_R = special_ortho_group.rvs(3)\n",
    "print(ideal_R)"
   ]
  },
  {
   "cell_type": "code",
   "execution_count": null,
   "metadata": {},
   "outputs": [],
   "source": [
    "sigma = np.array([[1.2, 0.8, 1.1]])\n",
    "cov_a_prime = sigma * sigma.T * random_correlation.rvs((0.1, 0.2, 2.7))\n",
    "A_prime = ideal_R @ A_bar + noise_level * np.random.multivariate_normal(np.zeros(3), cov_a_prime, points_num).T\n",
    "util.plot_3d(A_prime)"
   ]
  },
  {
   "cell_type": "markdown",
   "metadata": {},
   "source": [
    "## 特異値分解の場合"
   ]
  },
  {
   "cell_type": "code",
   "execution_count": null,
   "metadata": {},
   "outputs": [],
   "source": [
    "R1 = util.estimate_R_using_SVD(A, A_prime)\n",
    "print('error:', util.eval_R_error(R1, ideal_R))"
   ]
  },
  {
   "cell_type": "markdown",
   "metadata": {},
   "source": [
    "## 5.3 四元数表現による回転推定"
   ]
  },
  {
   "cell_type": "code",
   "execution_count": null,
   "metadata": {},
   "outputs": [],
   "source": [
    "xi = np.stack([\n",
    "    np.stack([\n",
    "        A_prime[0] - A[0],\n",
    "        np.zeros(points_num),\n",
    "        -(A_prime[2] + A[2]),\n",
    "        A_prime[1] + A[1]\n",
    "    ]),\n",
    "    np.stack([\n",
    "        A_prime[1] - A[1],\n",
    "        A_prime[2] + A[2],\n",
    "        np.zeros(points_num),\n",
    "        -(A_prime[0] + A[0])\n",
    "    ]),\n",
    "    np.stack([\n",
    "        A_prime[2] - A[2],\n",
    "        -(A_prime[1] + A[1]),\n",
    "        A_prime[0] + A[0],\n",
    "        np.zeros(points_num)\n",
    "    ])\n",
    "])\n",
    "print(xi.shape)"
   ]
  },
  {
   "cell_type": "code",
   "execution_count": null,
   "metadata": {},
   "outputs": [],
   "source": [
    "T = np.array([\n",
    "    [\n",
    "        [-1,  0,  0,  1,  0,  0],\n",
    "        [ 0,  0,  0,  0,  0,  0],\n",
    "        [ 0,  0, -1,  0,  0, -1],\n",
    "        [ 0,  1,  0,  0,  1,  0]\n",
    "    ], [\n",
    "        [ 0, -1,  0,  0,  1,  0],\n",
    "        [ 0,  0,  1,  0,  0,  1],\n",
    "        [ 0,  0,  0,  0,  0,  0],\n",
    "        [-1,  0,  0, -1,  0,  0]\n",
    "    ], [\n",
    "        [ 0,  0, -1,  0,  0,  1],\n",
    "        [ 0, -1,  0,  0, -1,  0],\n",
    "        [ 1,  0,  0,  1,  0,  0],\n",
    "        [ 0,  0,  0,  0,  0,  0]\n",
    "    ]\n",
    "])\n",
    "print(T.shape)"
   ]
  },
  {
   "cell_type": "code",
   "execution_count": null,
   "metadata": {},
   "outputs": [],
   "source": [
    "cov_joined = np.block([[cov_a, np.zeros([3, 3])], [np.zeros([3, 3]), cov_a_prime]])\n",
    "print(cov_joined)\n",
    "\n",
    "V_0 = np.zeros([3, 3, T.shape[1], T.shape[1]])\n",
    "for k, l in product(range(3), repeat=2):\n",
    "    V_0[k, l] = T[k] @ cov_joined @ T[l].T\n",
    "print(V_0.shape)"
   ]
  },
  {
   "cell_type": "markdown",
   "metadata": {},
   "source": [
    "## 5.4 FNS法による最適化"
   ]
  },
  {
   "cell_type": "code",
   "execution_count": null,
   "metadata": {},
   "outputs": [],
   "source": [
    "def calc_M(W, xi):\n",
    "    dim = xi.shape[1]\n",
    "    M = np.zeros([dim, dim])\n",
    "    for k, l in product(range(3), repeat=2):\n",
    "        M += W[k, l] * xi[k] @ xi[l].T\n",
    "    return M"
   ]
  },
  {
   "cell_type": "code",
   "execution_count": null,
   "metadata": {},
   "outputs": [],
   "source": [
    "def calc_L(W, q, xi, V_0):\n",
    "    _, dim, points_num = xi.shape\n",
    "    v = np.zeros([3, points_num])\n",
    "    for k, l in product(range(3), repeat=2):\n",
    "        v[k] += W[k, l] * xi[l].T @ q\n",
    "    L = np.zeros([dim, dim])\n",
    "    for k, l in product(range(3), repeat=2):\n",
    "        L += v[k].T @ v[l] * V_0[k, l]\n",
    "    return L"
   ]
  },
  {
   "cell_type": "code",
   "execution_count": null,
   "metadata": {
    "scrolled": false
   },
   "outputs": [],
   "source": [
    "def FNS_method(xi, V_0):\n",
    "    # step 1\n",
    "    q0 = np.zeros(4)\n",
    "    W = np.eye(3)\n",
    "    iters = 1\n",
    "\n",
    "    while True:\n",
    "        # step 2\n",
    "        X = calc_M(W, xi) - calc_L(W, q0, xi, V_0)\n",
    "        # step 3\n",
    "        w, v = np.linalg.eigh(X)\n",
    "        q = v[:, np.argmin(w)]\n",
    "        # step 4\n",
    "        if np.allclose(q, q0) or np.allclose(q, -q0):\n",
    "            return q, iters\n",
    "        W_inv = np.zeros_like(W)\n",
    "        for k, l in product(range(3), repeat=2):\n",
    "            W_inv[k, l] = q @ V_0[k, l] @ q\n",
    "        W = np.linalg.inv(W_inv)\n",
    "        q0 = q\n",
    "        iters += 1"
   ]
  },
  {
   "cell_type": "code",
   "execution_count": null,
   "metadata": {},
   "outputs": [],
   "source": [
    "q, iters = FNS_method(xi, V_0)\n",
    "R2 = Rotation.from_quat(q[[1, 2, 3, 0]]).as_dcm()\n",
    "print('iterations:', iters)\n",
    "print('error:', util.eval_R_error(R2, ideal_R))"
   ]
  },
  {
   "cell_type": "code",
   "execution_count": null,
   "metadata": {},
   "outputs": [],
   "source": [
    "util.plot_3d_multi(R2 @ A, A_prime)"
   ]
  },
  {
   "cell_type": "markdown",
   "metadata": {},
   "source": [
    "## 5.5 同次拘束条件による解法"
   ]
  },
  {
   "cell_type": "code",
   "execution_count": null,
   "metadata": {},
   "outputs": [],
   "source": [
    "zeros = np.zeros([3, points_num])\n",
    "xi = np.stack([\n",
    "    np.concatenate([A, zeros, zeros, -A_prime[[0]]]),\n",
    "    np.concatenate([zeros, A, zeros, -A_prime[[1]]]),\n",
    "    np.concatenate([zeros, zeros, A, -A_prime[[2]]])\n",
    "])\n",
    "del zeros\n",
    "print(xi.shape)"
   ]
  },
  {
   "cell_type": "code",
   "execution_count": null,
   "metadata": {},
   "outputs": [],
   "source": [
    "T = np.zeros([3 ,10, 6])\n",
    "for i in range(3):\n",
    "    T[i, i * 3, 0] = T[i, i * 3 + 1, 1] = T[i, i * 3 + 2, 2] = 1\n",
    "    T[i, 9, 3 +  i] = -1\n",
    "print(T.shape)\n",
    "print(T)"
   ]
  },
  {
   "cell_type": "code",
   "execution_count": null,
   "metadata": {},
   "outputs": [],
   "source": [
    "V_0 = np.zeros([3, 3, T.shape[1], T.shape[1]])\n",
    "for k, l in product(range(3), repeat=2):\n",
    "    V_0[k, l] = T[k] @ cov_joined @ T[l].T\n",
    "print(V_0.shape)"
   ]
  },
  {
   "cell_type": "code",
   "execution_count": null,
   "metadata": {},
   "outputs": [],
   "source": [
    "def projection_matrix(u):\n",
    "    orthogonal_basis = np.array([\n",
    "        [u[1], u[0], 0, u[4], u[3], 0, u[7], u[6], 0, 0],\n",
    "        [0, u[2], u[1], 0, u[5], u[4], 0, u[8], u[7], 0],\n",
    "        [u[2], 0, u[0], u[5], 0, u[3], u[8], 0, u[6], 0],\n",
    "        [2*u[0], 0, 0, 2*u[3], 0, 0, 2*u[6], 0, 0, -2*u[9]],\n",
    "        [0, 2*u[1], 0, 0, 2*u[4], 0, 0, 2*u[7], 0, -2*u[9]],\n",
    "        [0, 0, 2*u[2], 0, 0, 2*u[5], 0, 0, 2*u[8], -2*u[9]],\n",
    "    ]).T\n",
    "\n",
    "    constraint_num = orthogonal_basis.shape[1]\n",
    "    # Gram–Schmidt process\n",
    "    Q, _ = np.linalg.qr(orthogonal_basis)\n",
    "    P = np.eye(10)\n",
    "    for i in range(6):\n",
    "        P -= np.outer(Q[:, i], Q[:, i])\n",
    "    return P, constraint_num"
   ]
  },
  {
   "cell_type": "code",
   "execution_count": null,
   "metadata": {},
   "outputs": [],
   "source": [
    "def EFNS_method(xi, V_0):\n",
    "    # step 1\n",
    "    u = np.array([1., 0., 0.,\n",
    "                  0., 1., 0.,\n",
    "                  0., 0., 1., 1.])\n",
    "    u /= np.linalg.norm(u)\n",
    "    W = np.eye(3)\n",
    "    iters = 1\n",
    "\n",
    "    while True:\n",
    "        # step 2\n",
    "        M = calc_M(W, xi)\n",
    "        L = calc_L(W, u, xi, V_0)\n",
    "        # step 3, 4\n",
    "        P, constraint_num = projection_matrix(u)\n",
    "        # step 5\n",
    "        X = P @ (M - L) @ P\n",
    "        # step 6\n",
    "        w, v = np.linalg.eigh(X)\n",
    "        v = v[:, np.argsort(w)[:constraint_num + 1]]\n",
    "        # step 7\n",
    "        u_hat = np.zeros_like(u)\n",
    "        for i in range(v.shape[1]):\n",
    "            u_hat += u @ v[:, i] * v[:, i]\n",
    "        # step 8\n",
    "        u_prime = P @ u_hat\n",
    "        u_prime /= np.linalg.norm(u_prime)\n",
    "        if np.allclose(u_prime, u) or np.allclose(u_prime, -u):\n",
    "            return u_prime, iters\n",
    "        u += u_prime\n",
    "        u /= np.linalg.norm(u)\n",
    "        W_inv = np.zeros_like(W)\n",
    "        for k, l in product(range(3), repeat=2):\n",
    "            W_inv[k, l] = u @ V_0[k, l] @ u\n",
    "        W = np.linalg.inv(W_inv)\n",
    "        iters += 1"
   ]
  },
  {
   "cell_type": "code",
   "execution_count": null,
   "metadata": {
    "scrolled": false
   },
   "outputs": [],
   "source": [
    "u, iters = EFNS_method(xi, V_0)\n",
    "R3 = u[:-1].reshape(3, 3) / u[-1]\n",
    "print('iterations:', iters)\n",
    "print('error:', util.eval_R_error(R3, ideal_R))"
   ]
  },
  {
   "cell_type": "code",
   "execution_count": null,
   "metadata": {},
   "outputs": [],
   "source": [
    "util.plot_3d_multi(R3 @ A, A_prime)"
   ]
  },
  {
   "cell_type": "markdown",
   "metadata": {},
   "source": [
    "## 6.6 最尤推定による回転の最適化\n",
    "（章は違うがやっていることは同じなので混ぜた）"
   ]
  },
  {
   "cell_type": "code",
   "execution_count": null,
   "metadata": {},
   "outputs": [],
   "source": [
    "def calc_W(cov_a, cov_a_prime, R):\n",
    "    return np.linalg.inv(R @ cov_a @ R.T + cov_a_prime)"
   ]
  },
  {
   "cell_type": "code",
   "execution_count": null,
   "metadata": {},
   "outputs": [],
   "source": [
    "def calc_g(A, A_prime, R, W, cov_a):\n",
    "    WE = W @ (A_prime - R @ A)\n",
    "    g = (-np.cross(R @ A, WE, axis=0) + np.cross(WE, R @ cov_a @ R.T @ WE, axis=0)).sum(axis=1)\n",
    "    return g"
   ]
  },
  {
   "cell_type": "code",
   "execution_count": null,
   "metadata": {},
   "outputs": [],
   "source": [
    "def calc_H(A, R, W):\n",
    "    tmp = np.stack([\n",
    "        np.cross(R @ A, W[:, 0], axis=0),\n",
    "        np.cross(R @ A, W[:, 1], axis=0),\n",
    "        np.cross(R @ A, W[:, 2], axis=0),\n",
    "    ], axis=1)\n",
    "    return np.cross(tmp, R @ A, axisa=1, axisb=0, axisc=1).sum(axis=2)"
   ]
  },
  {
   "cell_type": "code",
   "execution_count": null,
   "metadata": {},
   "outputs": [],
   "source": [
    "def calc_J(A, A_prime, cov_a, cov_a_prime, R):\n",
    "    W = calc_W(cov_a, cov_a_prime, R)\n",
    "    E = A_prime - R @ A\n",
    "    return (E * (W @ E)).sum()"
   ]
  },
  {
   "cell_type": "code",
   "execution_count": null,
   "metadata": {},
   "outputs": [],
   "source": [
    "def skew_matrix(v):\n",
    "    return np.array([\n",
    "        [0, -v[2], v[1]],\n",
    "        [v[2], 0, -v[0]],\n",
    "        [-v[1], v[0], 0]\n",
    "    ])"
   ]
  },
  {
   "cell_type": "code",
   "execution_count": null,
   "metadata": {},
   "outputs": [],
   "source": [
    "def lie_optimize(A, A_prime, cov_a, cov_a_prime):\n",
    "    # step 1\n",
    "    R = util.estimate_R_using_SVD(A, A_prime)\n",
    "    c = 0.0001\n",
    "\n",
    "    while True:\n",
    "        W = calc_W(cov_a, cov_a_prime, R)\n",
    "        # step 2\n",
    "        g = calc_g(A, A_prime, R, W, cov_a)\n",
    "        H = calc_H(A, R, W)\n",
    "        while True:\n",
    "            # step 3\n",
    "            omega = np.linalg.solve(H + c * np.eye(3), -g)\n",
    "            # step 4\n",
    "            t = np.linalg.norm(omega)\n",
    "            A_omega = skew_matrix(omega / t)\n",
    "            exp_omega = np.eye(3) + np.sin(t) * A_omega + (1 - np.cos(t)) * A_omega @ A_omega\n",
    "            new_R = exp_omega @ R\n",
    "            # step 5\n",
    "            J = calc_J(A, A_prime, cov_a, cov_a_prime, R)\n",
    "            new_J = calc_J(A, A_prime, cov_a, cov_a_prime, new_R)\n",
    "            if new_J <= J:\n",
    "                break\n",
    "            c *= 10\n",
    "        # step 6\n",
    "        if np.linalg.norm(omega) < 1e-10:\n",
    "            return new_R\n",
    "        R = new_R\n",
    "        c /= 10"
   ]
  },
  {
   "cell_type": "code",
   "execution_count": null,
   "metadata": {},
   "outputs": [],
   "source": [
    "R4 = lie_optimize(A, A_prime, cov_a, cov_a_prime)\n",
    "print('initial error:', util.eval_R_error(R1, ideal_R))\n",
    "print('final error:', util.eval_R_error(R4, ideal_R))"
   ]
  },
  {
   "cell_type": "code",
   "execution_count": null,
   "metadata": {},
   "outputs": [],
   "source": [
    "util.plot_3d_multi(R4 @ A, A_prime)"
   ]
  }
 ],
 "metadata": {
  "kernelspec": {
   "display_name": "Python 3",
   "language": "python",
   "name": "python3"
  },
  "language_info": {
   "codemirror_mode": {
    "name": "ipython",
    "version": 3
   },
   "file_extension": ".py",
   "mimetype": "text/x-python",
   "name": "python",
   "nbconvert_exporter": "python",
   "pygments_lexer": "ipython3",
   "version": "3.6.9"
  }
 },
 "nbformat": 4,
 "nbformat_minor": 2
}
