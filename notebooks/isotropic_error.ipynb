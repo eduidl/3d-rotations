{
 "cells": [
  {
   "cell_type": "markdown",
   "metadata": {},
   "source": [
    "# 回転の推定I:等方性誤差"
   ]
  },
  {
   "cell_type": "code",
   "execution_count": 1,
   "metadata": {},
   "outputs": [],
   "source": [
    "from pathlib import Path\n",
    "import sys\n",
    "\n",
    "import numpy as np\n",
    "from scipy import linalg\n",
    "from scipy.stats import special_ortho_group\n",
    "from scipy.spatial.transform import Rotation\n",
    "\n",
    "sys.path.append('../libs')\n",
    "import util"
   ]
  },
  {
   "cell_type": "code",
   "execution_count": 2,
   "metadata": {
    "scrolled": false
   },
   "outputs": [],
   "source": [
    "A = util.load_point_cloud(Path('../bunny/data/bun180.ply').resolve())"
   ]
  },
  {
   "cell_type": "code",
   "execution_count": null,
   "metadata": {},
   "outputs": [],
   "source": [
    "util.plot_3d(A)"
   ]
  },
  {
   "cell_type": "code",
   "execution_count": 3,
   "metadata": {},
   "outputs": [
    {
     "name": "stdout",
     "output_type": "stream",
     "text": [
      "[[-0.67160169  0.52410797 -0.52370031]\n",
      " [ 0.28109583 -0.47374539 -0.83459597]\n",
      " [-0.68551901 -0.70772604  0.17084364]]\n"
     ]
    }
   ],
   "source": [
    "R = special_ortho_group.rvs(3)\n",
    "print(R)"
   ]
  },
  {
   "cell_type": "code",
   "execution_count": 4,
   "metadata": {},
   "outputs": [],
   "source": [
    "noise = np.random.normal(0, 3e-3, A.shape)\n",
    "A_prime = R @ A + noise"
   ]
  },
  {
   "cell_type": "code",
   "execution_count": null,
   "metadata": {},
   "outputs": [],
   "source": [
    "util.plot_3d(A_prime)"
   ]
  },
  {
   "cell_type": "markdown",
   "metadata": {},
   "source": [
    "## 4.3 特異値分解による解法"
   ]
  },
  {
   "cell_type": "code",
   "execution_count": 5,
   "metadata": {},
   "outputs": [
    {
     "name": "stdout",
     "output_type": "stream",
     "text": [
      "0.00046467862126025277\n"
     ]
    }
   ],
   "source": [
    "estimated_R = util.estimate_R_using_SVD(A, A_prime)\n",
    "print(util.eval_R_error(estimated_R, R))"
   ]
  },
  {
   "cell_type": "code",
   "execution_count": null,
   "metadata": {},
   "outputs": [],
   "source": [
    "util.plot_3d_multi(estimated_R @ A, A_prime)"
   ]
  },
  {
   "cell_type": "markdown",
   "metadata": {},
   "source": [
    "## 4.4 四元数表示による解法"
   ]
  },
  {
   "cell_type": "code",
   "execution_count": 6,
   "metadata": {},
   "outputs": [],
   "source": [
    "N = A @ A_prime.T\n",
    "N_tilde = np.array([\n",
    "    [\n",
    "        N[0, 0] + N[1, 1] + N[2, 2],\n",
    "        -N[2, 1] + N[1, 2],\n",
    "        N[2, 0] - N[0, 2],\n",
    "        -N[1, 0] + N[0, 1],\n",
    "    ], [\n",
    "        -N[2, 1] + N[1, 2],\n",
    "        N[0, 0] - N[1, 1] - N[2, 2],\n",
    "        N[1, 0] + N[0, 1],\n",
    "        N[2, 0] + N[0, 2],\n",
    "    ], [\n",
    "        N[2, 0] - N[0, 2],\n",
    "        N[1, 0] + N[0, 1],\n",
    "        -N[0, 0] + N[1, 1] - N[2, 2],\n",
    "        N[2, 1] + N[1, 2],\n",
    "    ], [\n",
    "        -N[1, 0] + N[0, 1],\n",
    "        N[2, 0] + N[0, 2],\n",
    "        N[2, 1] + N[1, 2],\n",
    "        -N[0, 0] - N[1, 1] + N[2, 2],\n",
    "    ],\n",
    "])"
   ]
  },
  {
   "cell_type": "code",
   "execution_count": 7,
   "metadata": {},
   "outputs": [
    {
     "name": "stdout",
     "output_type": "stream",
     "text": [
      "0.00046467862126048603\n"
     ]
    }
   ],
   "source": [
    "w, v = linalg.eig(N_tilde)\n",
    "max_vec = v[:, np.argmax(w)]\n",
    "# 書籍では(w, x, y, z)だが，scipyでは(x, y, z, w)\n",
    "r = Rotation.from_quat(max_vec[[1, 2, 3, 0]])\n",
    "print(util.eval_R_error(r.as_dcm(), R))"
   ]
  },
  {
   "cell_type": "code",
   "execution_count": null,
   "metadata": {
    "scrolled": false
   },
   "outputs": [],
   "source": [
    "util.plot_3d_multi(r.as_dcm() @ A, A_prime)"
   ]
  },
  {
   "cell_type": "markdown",
   "metadata": {},
   "source": [
    "## 4.5 回転行列の最適補正"
   ]
  },
  {
   "cell_type": "code",
   "execution_count": 8,
   "metadata": {},
   "outputs": [
    {
     "data": {
      "text/plain": [
       "array([[ 1.00626274,  0.00372956, -0.00560683],\n",
       "       [ 0.00372956,  0.98989348, -0.00938626],\n",
       "       [-0.00560683, -0.00938626,  0.99968069]])"
      ]
     },
     "execution_count": 8,
     "metadata": {},
     "output_type": "execute_result"
    }
   ],
   "source": [
    "R_hat = R + np.random.normal(0, 1e-2, R.shape)\n",
    "R_hat @ R_hat.T"
   ]
  },
  {
   "cell_type": "code",
   "execution_count": 9,
   "metadata": {},
   "outputs": [
    {
     "data": {
      "text/plain": [
       "array([[ 1.00000000e+00, -2.21081875e-17, -1.17305016e-16],\n",
       "       [-2.21081875e-17,  1.00000000e+00, -7.49677637e-16],\n",
       "       [-1.17305016e-16, -7.49677637e-16,  1.00000000e+00]])"
      ]
     },
     "execution_count": 9,
     "metadata": {},
     "output_type": "execute_result"
    }
   ],
   "source": [
    "U, s, Vh = linalg.svd(R_hat)\n",
    "V = Vh.T\n",
    "corrected_R = U @ np.diag([1, 1, linalg.det(U @ V)]) @ Vh\n",
    "corrected_R @ corrected_R.T"
   ]
  }
 ],
 "metadata": {
  "kernelspec": {
   "display_name": "Python 3",
   "language": "python",
   "name": "python3"
  },
  "language_info": {
   "codemirror_mode": {
    "name": "ipython",
    "version": 3
   },
   "file_extension": ".py",
   "mimetype": "text/x-python",
   "name": "python",
   "nbconvert_exporter": "python",
   "pygments_lexer": "ipython3",
   "version": "3.6.9"
  }
 },
 "nbformat": 4,
 "nbformat_minor": 2
}
