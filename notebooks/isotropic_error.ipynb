{
 "cells": [
  {
   "cell_type": "markdown",
   "metadata": {},
   "source": [
    "# 回転の推定I:等方性誤差"
   ]
  },
  {
   "cell_type": "code",
   "execution_count": 1,
   "metadata": {},
   "outputs": [],
   "source": [
    "from pathlib import Path\n",
    "import sys\n",
    "\n",
    "from itkwidgets import view\n",
    "import numpy as np\n",
    "from scipy import linalg\n",
    "from scipy.stats import special_ortho_group\n",
    "from scipy.spatial.transform import Rotation\n",
    "\n",
    "sys.path.append('../libs')\n",
    "import util"
   ]
  },
  {
   "cell_type": "code",
   "execution_count": 2,
   "metadata": {},
   "outputs": [],
   "source": [
    "A = util.load_point_cloud(Path('../bunny/data/bun180.ply').resolve())"
   ]
  },
  {
   "cell_type": "code",
   "execution_count": 3,
   "metadata": {
    "scrolled": true
   },
   "outputs": [
    {
     "data": {
      "application/vnd.jupyter.widget-view+json": {
       "model_id": "7f13e345cbf44a6fa2f3185a15fbd98c",
       "version_major": 2,
       "version_minor": 0
      },
      "text/plain": [
       "Viewer(geometries=[], gradient_opacity=0.22, point_set_colors=array([[0.8392157, 0.       , 0.       ]], dtype…"
      ]
     },
     "metadata": {},
     "output_type": "display_data"
    }
   ],
   "source": [
    "view(point_sets=A)"
   ]
  },
  {
   "cell_type": "code",
   "execution_count": 4,
   "metadata": {},
   "outputs": [
    {
     "name": "stdout",
     "output_type": "stream",
     "text": [
      "[[ 0.14200882 -0.98849183 -0.05212857]\n",
      " [-0.14404829  0.03146479 -0.9890703 ]\n",
      " [ 0.97932813  0.14796574 -0.13792228]]\n"
     ]
    }
   ],
   "source": [
    "R = special_ortho_group.rvs(3)\n",
    "print(R)"
   ]
  },
  {
   "cell_type": "code",
   "execution_count": 5,
   "metadata": {},
   "outputs": [],
   "source": [
    "noise = np.random.normal(0, 3e-3, A.shape)\n",
    "A_prime = A @ R.T + noise"
   ]
  },
  {
   "cell_type": "code",
   "execution_count": 6,
   "metadata": {},
   "outputs": [
    {
     "data": {
      "application/vnd.jupyter.widget-view+json": {
       "model_id": "cdc7ee4211914f0894f973593b5edc5f",
       "version_major": 2,
       "version_minor": 0
      },
      "text/plain": [
       "Viewer(geometries=[], gradient_opacity=0.22, point_set_colors=array([[0.8392157 , 0.        , 0.        ],\n",
       "   …"
      ]
     },
     "metadata": {},
     "output_type": "display_data"
    }
   ],
   "source": [
    "view(point_sets=[A, A_prime])"
   ]
  },
  {
   "cell_type": "markdown",
   "metadata": {},
   "source": [
    "## 4.3 特異値分解による解法"
   ]
  },
  {
   "cell_type": "code",
   "execution_count": 7,
   "metadata": {},
   "outputs": [
    {
     "name": "stdout",
     "output_type": "stream",
     "text": [
      "0.0005689624432243011\n"
     ]
    }
   ],
   "source": [
    "estimated_R = util.estimate_R_using_SVD(A, A_prime)\n",
    "print(util.eval_R_error(estimated_R, R))"
   ]
  },
  {
   "cell_type": "code",
   "execution_count": 8,
   "metadata": {},
   "outputs": [
    {
     "data": {
      "application/vnd.jupyter.widget-view+json": {
       "model_id": "f81c0ba2b76a4c32bec5eb5db3a3c106",
       "version_major": 2,
       "version_minor": 0
      },
      "text/plain": [
       "Viewer(geometries=[], gradient_opacity=0.22, point_set_colors=array([[0.8392157 , 0.        , 0.        ],\n",
       "   …"
      ]
     },
     "metadata": {},
     "output_type": "display_data"
    }
   ],
   "source": [
    "view(point_sets=[A @ estimated_R.T, A_prime])"
   ]
  },
  {
   "cell_type": "markdown",
   "metadata": {},
   "source": [
    "## 4.4 四元数表示による解法"
   ]
  },
  {
   "cell_type": "code",
   "execution_count": 9,
   "metadata": {},
   "outputs": [],
   "source": [
    "N = A.T @ A_prime\n",
    "N_tilde = np.array([\n",
    "    [\n",
    "        N[0, 0] + N[1, 1] + N[2, 2],\n",
    "        -N[2, 1] + N[1, 2],\n",
    "        N[2, 0] - N[0, 2],\n",
    "        -N[1, 0] + N[0, 1],\n",
    "    ], [\n",
    "        -N[2, 1] + N[1, 2],\n",
    "        N[0, 0] - N[1, 1] - N[2, 2],\n",
    "        N[1, 0] + N[0, 1],\n",
    "        N[2, 0] + N[0, 2],\n",
    "    ], [\n",
    "        N[2, 0] - N[0, 2],\n",
    "        N[1, 0] + N[0, 1],\n",
    "        -N[0, 0] + N[1, 1] - N[2, 2],\n",
    "        N[2, 1] + N[1, 2],\n",
    "    ], [\n",
    "        -N[1, 0] + N[0, 1],\n",
    "        N[2, 0] + N[0, 2],\n",
    "        N[2, 1] + N[1, 2],\n",
    "        -N[0, 0] - N[1, 1] + N[2, 2],\n",
    "    ],\n",
    "])"
   ]
  },
  {
   "cell_type": "code",
   "execution_count": 10,
   "metadata": {},
   "outputs": [
    {
     "name": "stdout",
     "output_type": "stream",
     "text": [
      "0.000568962443223393\n"
     ]
    }
   ],
   "source": [
    "w, v = linalg.eig(N_tilde)\n",
    "max_vec = v[:, np.argmax(w)]\n",
    "# 書籍では(w, x, y, z)だが，scipyでは(x, y, z, w)\n",
    "r = Rotation.from_quat(max_vec[[1, 2, 3, 0]])\n",
    "print(util.eval_R_error(r.as_dcm(), R))"
   ]
  },
  {
   "cell_type": "code",
   "execution_count": 11,
   "metadata": {},
   "outputs": [
    {
     "data": {
      "application/vnd.jupyter.widget-view+json": {
       "model_id": "ba8cf7010e8f474c877fac8c11a178ee",
       "version_major": 2,
       "version_minor": 0
      },
      "text/plain": [
       "Viewer(geometries=[], gradient_opacity=0.22, point_set_colors=array([[0.8392157 , 0.        , 0.        ],\n",
       "   …"
      ]
     },
     "metadata": {},
     "output_type": "display_data"
    }
   ],
   "source": [
    "view(point_sets=[A @ r.as_dcm().T, A_prime])"
   ]
  },
  {
   "cell_type": "markdown",
   "metadata": {},
   "source": [
    "## 4.5 回転行列の最適補正"
   ]
  },
  {
   "cell_type": "code",
   "execution_count": 12,
   "metadata": {},
   "outputs": [
    {
     "data": {
      "text/plain": [
       "array([[ 1.0140317 ,  0.02316698, -0.00761126],\n",
       "       [ 0.02316698,  1.0199991 , -0.00955682],\n",
       "       [-0.00761126, -0.00955682,  0.96885434]])"
      ]
     },
     "execution_count": 12,
     "metadata": {},
     "output_type": "execute_result"
    }
   ],
   "source": [
    "R_hat = R + np.random.normal(0, 1e-2, R.shape)\n",
    "R_hat @ R_hat.T"
   ]
  },
  {
   "cell_type": "code",
   "execution_count": 13,
   "metadata": {},
   "outputs": [
    {
     "data": {
      "text/plain": [
       "array([[1.00000000e+00, 2.00331120e-16, 6.00577469e-16],\n",
       "       [2.00331120e-16, 1.00000000e+00, 3.54886553e-17],\n",
       "       [6.00577469e-16, 3.54886553e-17, 1.00000000e+00]])"
      ]
     },
     "execution_count": 13,
     "metadata": {},
     "output_type": "execute_result"
    }
   ],
   "source": [
    "U, s, Vh = linalg.svd(R_hat)\n",
    "V = Vh.T\n",
    "corrected_R = U @ np.diag([1, 1, linalg.det(U @ V)]) @ Vh\n",
    "corrected_R @ corrected_R.T"
   ]
  }
 ],
 "metadata": {
  "kernelspec": {
   "display_name": "Python 3",
   "language": "python",
   "name": "python3"
  },
  "language_info": {
   "codemirror_mode": {
    "name": "ipython",
    "version": 3
   },
   "file_extension": ".py",
   "mimetype": "text/x-python",
   "name": "python",
   "nbconvert_exporter": "python",
   "pygments_lexer": "ipython3",
   "version": "3.7.5"
  }
 },
 "nbformat": 4,
 "nbformat_minor": 4
}
