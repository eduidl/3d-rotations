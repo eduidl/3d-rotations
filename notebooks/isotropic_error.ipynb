{
 "cells": [
  {
   "cell_type": "markdown",
   "metadata": {},
   "source": [
    "# 回転の推定I:等方性誤差"
   ]
  },
  {
   "cell_type": "code",
   "execution_count": null,
   "metadata": {},
   "outputs": [],
   "source": [
    "import sys\n",
    "\n",
    "import numpy as np\n",
    "from scipy.stats import special_ortho_group\n",
    "from scipy.spatial.transform import Rotation\n",
    "\n",
    "sys.path.append('../libs')\n",
    "import util"
   ]
  },
  {
   "cell_type": "code",
   "execution_count": null,
   "metadata": {},
   "outputs": [],
   "source": [
    "A = util.load_point_cloud()\n",
    "util.plot_3d(A)"
   ]
  },
  {
   "cell_type": "code",
   "execution_count": null,
   "metadata": {},
   "outputs": [],
   "source": [
    "R = special_ortho_group.rvs(3)\n",
    "print(R)"
   ]
  },
  {
   "cell_type": "code",
   "execution_count": null,
   "metadata": {},
   "outputs": [],
   "source": [
    "noise = np.random.normal(0, 3e-3, A.shape)\n",
    "A_prime = R @ A + noise\n",
    "util.plot_3d(A_prime)"
   ]
  },
  {
   "cell_type": "markdown",
   "metadata": {},
   "source": [
    "## 4.3 特異値分解による解法"
   ]
  },
  {
   "cell_type": "code",
   "execution_count": null,
   "metadata": {},
   "outputs": [],
   "source": [
    "estimated_R = util.estimate_R_using_SVD(A, A_prime)\n",
    "print(util.eval_R_error(estimated_R, R))"
   ]
  },
  {
   "cell_type": "code",
   "execution_count": null,
   "metadata": {},
   "outputs": [],
   "source": [
    "util.plot_3d_multi(estimated_R @ A, A_prime)"
   ]
  },
  {
   "cell_type": "markdown",
   "metadata": {},
   "source": [
    "## 4.4 四元数表示による解法"
   ]
  },
  {
   "cell_type": "code",
   "execution_count": null,
   "metadata": {},
   "outputs": [],
   "source": [
    "N = A @ A_prime.T\n",
    "N_tilde = np.array([\n",
    "    [\n",
    "        N[0, 0] + N[1, 1] + N[2, 2],\n",
    "        -N[2, 1] + N[1, 2],\n",
    "        N[2, 0] - N[0, 2],\n",
    "        -N[1, 0] + N[0, 1],\n",
    "    ], [\n",
    "        -N[2, 1] + N[1, 2],\n",
    "        N[0, 0] - N[1, 1] - N[2, 2],\n",
    "        N[1, 0] + N[0, 1],\n",
    "        N[2, 0] + N[0, 2],\n",
    "    ], [\n",
    "        N[2, 0] - N[0, 2],\n",
    "        N[1, 0] + N[0, 1],\n",
    "        -N[0, 0] + N[1, 1] - N[2, 2],\n",
    "        N[2, 1] + N[1, 2],\n",
    "    ], [\n",
    "        -N[1, 0] + N[0, 1],\n",
    "        N[2, 0] + N[0, 2],\n",
    "        N[2, 1] + N[1, 2],\n",
    "        -N[0, 0] - N[1, 1] + N[2, 2],\n",
    "    ],\n",
    "])"
   ]
  },
  {
   "cell_type": "code",
   "execution_count": null,
   "metadata": {},
   "outputs": [],
   "source": [
    "w, v = np.linalg.eig(N_tilde)\n",
    "max_vec = v[:, np.argmax(w)]\n",
    "# 書籍では(w, x, y, z)だが，scipyでは(x, y, z, w)\n",
    "r = Rotation.from_quat(max_vec[[1, 2, 3, 0]])\n",
    "print(util.eval_R_error(r.as_dcm(), R))"
   ]
  },
  {
   "cell_type": "code",
   "execution_count": null,
   "metadata": {
    "scrolled": false
   },
   "outputs": [],
   "source": [
    "util.plot_3d_multi(r.as_dcm() @ A, A_prime)"
   ]
  },
  {
   "cell_type": "markdown",
   "metadata": {},
   "source": [
    "## 4.5 回転行列の最適補正"
   ]
  },
  {
   "cell_type": "code",
   "execution_count": null,
   "metadata": {},
   "outputs": [],
   "source": [
    "R_hat = R + np.random.normal(0, 1e-2, R.shape)\n",
    "R_hat @ R_hat.T"
   ]
  },
  {
   "cell_type": "code",
   "execution_count": null,
   "metadata": {},
   "outputs": [],
   "source": [
    "U, S, VT = np.linalg.svd(R_hat)\n",
    "V = VT.T\n",
    "corrected_R = U @ np.diag([1, 1, np.linalg.det(U @ V)]) @ VT\n",
    "corrected_R @ corrected_R.T"
   ]
  }
 ],
 "metadata": {
  "kernelspec": {
   "display_name": "Python 3",
   "language": "python",
   "name": "python3"
  },
  "language_info": {
   "codemirror_mode": {
    "name": "ipython",
    "version": 3
   },
   "file_extension": ".py",
   "mimetype": "text/x-python",
   "name": "python",
   "nbconvert_exporter": "python",
   "pygments_lexer": "ipython3",
   "version": "3.6.9"
  }
 },
 "nbformat": 4,
 "nbformat_minor": 2
}
